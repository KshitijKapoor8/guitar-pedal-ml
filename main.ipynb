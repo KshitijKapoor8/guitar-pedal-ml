{
 "cells": [
  {
   "cell_type": "code",
   "execution_count": 71,
   "metadata": {},
   "outputs": [
    {
     "name": "stdout",
     "output_type": "stream",
     "text": [
      "Requirement already satisfied: torch in ./.venv/lib/python3.12/site-packages (2.5.1)\n",
      "Requirement already satisfied: numpy in ./.venv/lib/python3.12/site-packages (2.0.2)\n",
      "Requirement already satisfied: pandas in ./.venv/lib/python3.12/site-packages (2.2.3)\n",
      "Requirement already satisfied: matplotlib in ./.venv/lib/python3.12/site-packages (3.9.3)\n",
      "Requirement already satisfied: pytorch-lightning in ./.venv/lib/python3.12/site-packages (2.4.0)\n",
      "Requirement already satisfied: librosa in ./.venv/lib/python3.12/site-packages (0.10.2.post1)\n",
      "Requirement already satisfied: filelock in ./.venv/lib/python3.12/site-packages (from torch) (3.16.1)\n",
      "Requirement already satisfied: typing-extensions>=4.8.0 in ./.venv/lib/python3.12/site-packages (from torch) (4.12.2)\n",
      "Requirement already satisfied: networkx in ./.venv/lib/python3.12/site-packages (from torch) (3.4.2)\n",
      "Requirement already satisfied: jinja2 in ./.venv/lib/python3.12/site-packages (from torch) (3.1.4)\n",
      "Requirement already satisfied: fsspec in ./.venv/lib/python3.12/site-packages (from torch) (2024.10.0)\n",
      "Requirement already satisfied: nvidia-cuda-nvrtc-cu12==12.4.127 in ./.venv/lib/python3.12/site-packages (from torch) (12.4.127)\n",
      "Requirement already satisfied: nvidia-cuda-runtime-cu12==12.4.127 in ./.venv/lib/python3.12/site-packages (from torch) (12.4.127)\n",
      "Requirement already satisfied: nvidia-cuda-cupti-cu12==12.4.127 in ./.venv/lib/python3.12/site-packages (from torch) (12.4.127)\n",
      "Requirement already satisfied: nvidia-cudnn-cu12==9.1.0.70 in ./.venv/lib/python3.12/site-packages (from torch) (9.1.0.70)\n",
      "Requirement already satisfied: nvidia-cublas-cu12==12.4.5.8 in ./.venv/lib/python3.12/site-packages (from torch) (12.4.5.8)\n",
      "Requirement already satisfied: nvidia-cufft-cu12==11.2.1.3 in ./.venv/lib/python3.12/site-packages (from torch) (11.2.1.3)\n",
      "Requirement already satisfied: nvidia-curand-cu12==10.3.5.147 in ./.venv/lib/python3.12/site-packages (from torch) (10.3.5.147)\n",
      "Requirement already satisfied: nvidia-cusolver-cu12==11.6.1.9 in ./.venv/lib/python3.12/site-packages (from torch) (11.6.1.9)\n",
      "Requirement already satisfied: nvidia-cusparse-cu12==12.3.1.170 in ./.venv/lib/python3.12/site-packages (from torch) (12.3.1.170)\n",
      "Requirement already satisfied: nvidia-nccl-cu12==2.21.5 in ./.venv/lib/python3.12/site-packages (from torch) (2.21.5)\n",
      "Requirement already satisfied: nvidia-nvtx-cu12==12.4.127 in ./.venv/lib/python3.12/site-packages (from torch) (12.4.127)\n",
      "Requirement already satisfied: nvidia-nvjitlink-cu12==12.4.127 in ./.venv/lib/python3.12/site-packages (from torch) (12.4.127)\n",
      "Requirement already satisfied: triton==3.1.0 in ./.venv/lib/python3.12/site-packages (from torch) (3.1.0)\n",
      "Requirement already satisfied: setuptools in ./.venv/lib/python3.12/site-packages (from torch) (75.6.0)\n",
      "Requirement already satisfied: sympy==1.13.1 in ./.venv/lib/python3.12/site-packages (from torch) (1.13.1)\n",
      "Requirement already satisfied: mpmath<1.4,>=1.1.0 in ./.venv/lib/python3.12/site-packages (from sympy==1.13.1->torch) (1.3.0)\n",
      "Requirement already satisfied: python-dateutil>=2.8.2 in ./.venv/lib/python3.12/site-packages (from pandas) (2.9.0.post0)\n",
      "Requirement already satisfied: pytz>=2020.1 in ./.venv/lib/python3.12/site-packages (from pandas) (2024.2)\n",
      "Requirement already satisfied: tzdata>=2022.7 in ./.venv/lib/python3.12/site-packages (from pandas) (2024.2)\n",
      "Requirement already satisfied: contourpy>=1.0.1 in ./.venv/lib/python3.12/site-packages (from matplotlib) (1.3.1)\n",
      "Requirement already satisfied: cycler>=0.10 in ./.venv/lib/python3.12/site-packages (from matplotlib) (0.12.1)\n",
      "Requirement already satisfied: fonttools>=4.22.0 in ./.venv/lib/python3.12/site-packages (from matplotlib) (4.55.0)\n",
      "Requirement already satisfied: kiwisolver>=1.3.1 in ./.venv/lib/python3.12/site-packages (from matplotlib) (1.4.7)\n",
      "Requirement already satisfied: packaging>=20.0 in ./.venv/lib/python3.12/site-packages (from matplotlib) (24.2)\n",
      "Requirement already satisfied: pillow>=8 in ./.venv/lib/python3.12/site-packages (from matplotlib) (11.0.0)\n",
      "Requirement already satisfied: pyparsing>=2.3.1 in ./.venv/lib/python3.12/site-packages (from matplotlib) (3.2.0)\n",
      "Requirement already satisfied: tqdm>=4.57.0 in ./.venv/lib/python3.12/site-packages (from pytorch-lightning) (4.67.1)\n",
      "Requirement already satisfied: PyYAML>=5.4 in ./.venv/lib/python3.12/site-packages (from pytorch-lightning) (6.0.2)\n",
      "Requirement already satisfied: torchmetrics>=0.7.0 in ./.venv/lib/python3.12/site-packages (from pytorch-lightning) (1.6.0)\n",
      "Requirement already satisfied: lightning-utilities>=0.10.0 in ./.venv/lib/python3.12/site-packages (from pytorch-lightning) (0.11.9)\n",
      "Requirement already satisfied: audioread>=2.1.9 in ./.venv/lib/python3.12/site-packages (from librosa) (3.0.1)\n",
      "Requirement already satisfied: scipy>=1.2.0 in ./.venv/lib/python3.12/site-packages (from librosa) (1.14.1)\n",
      "Requirement already satisfied: scikit-learn>=0.20.0 in ./.venv/lib/python3.12/site-packages (from librosa) (1.5.2)\n",
      "Requirement already satisfied: joblib>=0.14 in ./.venv/lib/python3.12/site-packages (from librosa) (1.4.2)\n",
      "Requirement already satisfied: decorator>=4.3.0 in ./.venv/lib/python3.12/site-packages (from librosa) (5.1.1)\n",
      "Requirement already satisfied: numba>=0.51.0 in ./.venv/lib/python3.12/site-packages (from librosa) (0.60.0)\n",
      "Requirement already satisfied: soundfile>=0.12.1 in ./.venv/lib/python3.12/site-packages (from librosa) (0.12.1)\n",
      "Requirement already satisfied: pooch>=1.1 in ./.venv/lib/python3.12/site-packages (from librosa) (1.8.2)\n",
      "Requirement already satisfied: soxr>=0.3.2 in ./.venv/lib/python3.12/site-packages (from librosa) (0.5.0.post1)\n",
      "Requirement already satisfied: lazy-loader>=0.1 in ./.venv/lib/python3.12/site-packages (from librosa) (0.4)\n",
      "Requirement already satisfied: msgpack>=1.0 in ./.venv/lib/python3.12/site-packages (from librosa) (1.1.0)\n",
      "Requirement already satisfied: aiohttp!=4.0.0a0,!=4.0.0a1 in ./.venv/lib/python3.12/site-packages (from fsspec[http]>=2022.5.0->pytorch-lightning) (3.11.9)\n",
      "Requirement already satisfied: llvmlite<0.44,>=0.43.0dev0 in ./.venv/lib/python3.12/site-packages (from numba>=0.51.0->librosa) (0.43.0)\n",
      "Requirement already satisfied: platformdirs>=2.5.0 in ./.venv/lib/python3.12/site-packages (from pooch>=1.1->librosa) (4.3.6)\n",
      "Requirement already satisfied: requests>=2.19.0 in ./.venv/lib/python3.12/site-packages (from pooch>=1.1->librosa) (2.32.3)\n",
      "Requirement already satisfied: six>=1.5 in ./.venv/lib/python3.12/site-packages (from python-dateutil>=2.8.2->pandas) (1.16.0)\n",
      "Requirement already satisfied: threadpoolctl>=3.1.0 in ./.venv/lib/python3.12/site-packages (from scikit-learn>=0.20.0->librosa) (3.5.0)\n",
      "Requirement already satisfied: cffi>=1.0 in ./.venv/lib/python3.12/site-packages (from soundfile>=0.12.1->librosa) (1.17.1)\n",
      "Requirement already satisfied: MarkupSafe>=2.0 in ./.venv/lib/python3.12/site-packages (from jinja2->torch) (3.0.2)\n",
      "Requirement already satisfied: aiohappyeyeballs>=2.3.0 in ./.venv/lib/python3.12/site-packages (from aiohttp!=4.0.0a0,!=4.0.0a1->fsspec[http]>=2022.5.0->pytorch-lightning) (2.4.4)\n",
      "Requirement already satisfied: aiosignal>=1.1.2 in ./.venv/lib/python3.12/site-packages (from aiohttp!=4.0.0a0,!=4.0.0a1->fsspec[http]>=2022.5.0->pytorch-lightning) (1.3.1)\n",
      "Requirement already satisfied: attrs>=17.3.0 in ./.venv/lib/python3.12/site-packages (from aiohttp!=4.0.0a0,!=4.0.0a1->fsspec[http]>=2022.5.0->pytorch-lightning) (24.2.0)\n",
      "Requirement already satisfied: frozenlist>=1.1.1 in ./.venv/lib/python3.12/site-packages (from aiohttp!=4.0.0a0,!=4.0.0a1->fsspec[http]>=2022.5.0->pytorch-lightning) (1.5.0)\n",
      "Requirement already satisfied: multidict<7.0,>=4.5 in ./.venv/lib/python3.12/site-packages (from aiohttp!=4.0.0a0,!=4.0.0a1->fsspec[http]>=2022.5.0->pytorch-lightning) (6.1.0)\n",
      "Requirement already satisfied: propcache>=0.2.0 in ./.venv/lib/python3.12/site-packages (from aiohttp!=4.0.0a0,!=4.0.0a1->fsspec[http]>=2022.5.0->pytorch-lightning) (0.2.1)\n",
      "Requirement already satisfied: yarl<2.0,>=1.17.0 in ./.venv/lib/python3.12/site-packages (from aiohttp!=4.0.0a0,!=4.0.0a1->fsspec[http]>=2022.5.0->pytorch-lightning) (1.18.3)\n",
      "Requirement already satisfied: pycparser in ./.venv/lib/python3.12/site-packages (from cffi>=1.0->soundfile>=0.12.1->librosa) (2.22)\n",
      "Requirement already satisfied: charset-normalizer<4,>=2 in ./.venv/lib/python3.12/site-packages (from requests>=2.19.0->pooch>=1.1->librosa) (3.4.0)\n",
      "Requirement already satisfied: idna<4,>=2.5 in ./.venv/lib/python3.12/site-packages (from requests>=2.19.0->pooch>=1.1->librosa) (3.10)\n",
      "Requirement already satisfied: urllib3<3,>=1.21.1 in ./.venv/lib/python3.12/site-packages (from requests>=2.19.0->pooch>=1.1->librosa) (2.2.3)\n",
      "Requirement already satisfied: certifi>=2017.4.17 in ./.venv/lib/python3.12/site-packages (from requests>=2.19.0->pooch>=1.1->librosa) (2024.8.30)\n",
      "\n",
      "\u001b[1m[\u001b[0m\u001b[34;49mnotice\u001b[0m\u001b[1;39;49m]\u001b[0m\u001b[39;49m A new release of pip is available: \u001b[0m\u001b[31;49m24.2\u001b[0m\u001b[39;49m -> \u001b[0m\u001b[32;49m24.3.1\u001b[0m\n",
      "\u001b[1m[\u001b[0m\u001b[34;49mnotice\u001b[0m\u001b[1;39;49m]\u001b[0m\u001b[39;49m To update, run: \u001b[0m\u001b[32;49mpip install --upgrade pip\u001b[0m\n",
      "Note: you may need to restart the kernel to use updated packages.\n"
     ]
    }
   ],
   "source": [
    "%pip install torch numpy pandas matplotlib pytorch-lightning librosa"
   ]
  },
  {
   "cell_type": "code",
   "execution_count": 72,
   "metadata": {},
   "outputs": [],
   "source": [
    "# imports\n",
    "import torch\n",
    "import torch.nn as nn\n",
    "import librosa\n",
    "import matplotlib.pyplot as plt\n",
    "import numpy as np\n",
    "from torch import Tensor\n",
    "from torch.utils.data import DataLoader, Dataset\n",
    "import typing"
   ]
  },
  {
   "cell_type": "markdown",
   "metadata": {},
   "source": [
    "# Project Overview and Motivation"
   ]
  },
  {
   "cell_type": "markdown",
   "metadata": {},
   "source": [
    "### Modeling Effects Pedals\n",
    "\n",
    "Since the 1950s, guitarists and other instrumentalists have used effects pedals to achieve certain sounds from their instruments, from overdrive and distortion to reverb and delay. These effects are often encapsulated in physical pedals, each one with different analog circuitry, down to the types of capacitors that go on the pedals, to achieve these different sounds. Musicians will then use these pedals downstream of their instrument signal to apply the effect.\n",
    "\n",
    "Here is a common signal flow for an overdrive pedal with a guitar:\n",
    "\n",
    "![signal flow](images/signal-flow.png \"Signal Flow\")\n",
    "\n",
    "The guitar produces an input signal, which goes through the overdrive pedal, applying the overdriven effect (a sound that is more distorted and louder) on the raw signal, which then goes through the amplifier, which applies its own sound, and outputs it over its speakers."
   ]
  },
  {
   "cell_type": "markdown",
   "metadata": {},
   "source": [
    "### Creating An Effects Pedal Model\n",
    "\n",
    "Now, the goal of this project is to use machine learning to replace the pedal in the signal chain with software -- a model that emulates the same sound that musicians come to expect when using that pedal.\n",
    "\n",
    "![signal flow in software](images/signal-flow-sw.png \"Signal Flow in Software\")\n",
    "\n",
    "Using an input waveform from the guitar, and an output waveform from the guitar pedal, we can perform supervised learning to achieve this pedal model, completely cutting out the physical pedal in the signal chain altogether!"
   ]
  },
  {
   "cell_type": "markdown",
   "metadata": {},
   "source": [
    "### Our Setup\n",
    "\n",
    "For this project, we wanted to model a Boss DS-2 Turbo Distortion Pedal. To achieve this setup and record our dataset, we split the output of the guitar -- one side goes into an input of an audio interface so we can record the raw guitar signal, and the other goes to the pedal, the output of which goes to another input of the audio interface so we can record the distorted guitar signal.\n"
   ]
  },
  {
   "cell_type": "markdown",
   "metadata": {},
   "source": [
    "## Analyze audio signals\n",
    "Our first step is to actually analyze our audio signals. We can use librosa, a package for audio analysis, for this task. What we are essentially doing here is reading from our .wav files and plotting that data on a graph which depicts the amplitude of the wave over time."
   ]
  },
  {
   "cell_type": "code",
   "execution_count": 73,
   "metadata": {},
   "outputs": [
    {
     "data": {
      "image/png": "[encoded data removed]",
      "text/plain": [
       "<Figure size 1000x400 with 1 Axes>"
      ]
     },
     "metadata": {},
     "output_type": "display_data"
    },
    {
     "data": {
      "image/png": "[encoded data removed]",
      "text/plain": [
       "<Figure size 1000x400 with 1 Axes>"
      ]
     },
     "metadata": {},
     "output_type": "display_data"
    }
   ],
   "source": [
    "# data exploration to expand on later\n",
    "\n",
    "def load_audio(file_path: str) -> tuple:\n",
    "    audio_signal, sampling_rate = librosa.load(file_path, sr=None)\n",
    "    return audio_signal, sampling_rate\n",
    "\n",
    "def plot_waveform(wave: np.ndarray) -> None:\n",
    "    # Plot the waveform\n",
    "    plt.figure(figsize=(10, 4))\n",
    "    plt.plot(wave)\n",
    "    plt.title(\"Waveform\")\n",
    "    plt.xlabel(\"Time (samples)\")\n",
    "    plt.ylabel(\"Amplitude\")\n",
    "    plt.show()\n",
    "\n",
    "# inp_audio_signal, inp_sampling_rate = load_audio(\"./data/ML_Pedal_Input.wav\")\n",
    "# out_audio_signal, out_sampling_rate = load_audio(\"./data/ML_Pedal_Output.wav\")\n",
    "\n",
    "# Downsampled audio signals\n",
    "inp_audio_signal, inp_sampling_rate = load_audio(\"./data/ML_Pedal_Input_DS.wav\")\n",
    "out_audio_signal, out_sampling_rate = load_audio(\"./data/ML_Pedal_Output_DS.wav\")\n",
    "\n",
    "# Make signal divisible by sample rate\n",
    "inp_audio_signal = inp_audio_signal[:-(len(inp_audio_signal) % inp_sampling_rate)]\n",
    "out_audio_signal = out_audio_signal[:-(len(out_audio_signal) % out_sampling_rate)]\n",
    "\n",
    "# One minute of audio\n",
    "inp_audio_signal = inp_audio_signal[:inp_sampling_rate * 60]\n",
    "out_audio_signal = out_audio_signal[:out_sampling_rate * 60]\n",
    "\n",
    "plot_waveform(inp_audio_signal)\n",
    "plot_waveform(out_audio_signal)"
   ]
  },
  {
   "cell_type": "markdown",
   "metadata": {},
   "source": [
    "### Analysis\n",
    "as can be seen here, the graph for input and output datasets differ drastically"
   ]
  },
  {
   "cell_type": "markdown",
   "metadata": {},
   "source": [
    "# Machine Learning\n",
    "We are planning on using a neural network for our machine learning model. "
   ]
  },
  {
   "cell_type": "code",
   "execution_count": 74,
   "metadata": {},
   "outputs": [
    {
     "name": "stdout",
     "output_type": "stream",
     "text": [
      "Input Tensor Shape: torch.Size([960000, 1])\n",
      "Target Tensor Shape: torch.Size([960000, 1])\n"
     ]
    }
   ],
   "source": [
    "# turn into tensors for torch\n",
    "\n",
    "def to_tensor(data: np.ndarray) -> torch.Tensor:\n",
    "    return torch.tensor(data, dtype=torch.float32).unsqueeze(1)\n",
    "\n",
    "inp_tensor = to_tensor(inp_audio_signal)\n",
    "out_tensor = to_tensor(out_audio_signal)\n",
    "\n",
    "print(f\"Input Tensor Shape: {inp_tensor.shape}\")\n",
    "print(f\"Target Tensor Shape: {out_tensor.shape}\")"
   ]
  },
  {
   "cell_type": "markdown",
   "metadata": {},
   "source": [
    "## Neural Network\n",
    "WaveNet is our initial neural network for this project. There are five layers in this model, and we will explain our reasoning for using these five layers shortly\n",
    "1. Input Layer\n",
    "    - this is our input layer that takes in our raw audio signal and converts it via a 1x1 convolution, which transforms a single-channel raw waveform into multiple feature maps. Feature maps are the output of the 1x1 convolution that lets the model decide which features actually matter (pitch, amplitude, etc.). This makes it so that we do not have to manually select our features, which, due to the vast domain of audio, could lead our model to be overfitted.\n",
    "2. Dilated Convolution Layers:\n",
    "3. Residual Connections\n",
    "4. Skip Connections\n",
    "5. Output Layer\n"
   ]
  },
  {
   "cell_type": "code",
   "execution_count": 75,
   "metadata": {},
   "outputs": [
    {
     "name": "stdout",
     "output_type": "stream",
     "text": [
      "Device: cuda\n"
     ]
    }
   ],
   "source": [
    "cuda_available = torch.cuda.is_available()\n",
    "\n",
    "device = torch.device(\"cuda\" if cuda_available else \"cpu\")\n",
    "\n",
    "print(f\"Device: {device}\")"
   ]
  },
  {
   "cell_type": "code",
   "execution_count": 76,
   "metadata": {},
   "outputs": [],
   "source": [
    "class ResidualBlock(nn.Module):\n",
    "    def __init__(self, in_channels, out_channels, kernel_size, dilation):\n",
    "        super(ResidualBlock, self).__init__()\n",
    "        padding = dilation * (kernel_size - 1)\n",
    "        self.dilated_conv = nn.Conv1d(\n",
    "            in_channels, out_channels, kernel_size, dilation=dilation, padding=padding\n",
    "        )\n",
    "        self.skip_conv = nn.Conv1d(out_channels, out_channels, 1)\n",
    "        self.residual_conv = nn.Conv1d(out_channels, in_channels, 1)\n",
    "        self.activation = nn.ReLU()\n",
    "\n",
    "    def forward(self, x):\n",
    "        out = self.dilated_conv(x)\n",
    "        skip = self.skip_conv(out)\n",
    "        residual = self.residual_conv(out)\n",
    "        out = self.activation(out + skip)  # Add residual + skip, then apply activation\n",
    "        return out, residual\n",
    "\n",
    "\n",
    "class WaveNet(nn.Module):\n",
    "    def __init__(\n",
    "        self,\n",
    "        num_channels: int = 32,\n",
    "        dilation_depth: int = 4,\n",
    "        kernel_size: int = 2,\n",
    "        num_classes: int = 256,\n",
    "    ):\n",
    "        super(WaveNet, self).__init__()\n",
    "        self.input_layer = nn.Conv1d(\n",
    "            in_channels=1, out_channels=num_channels, kernel_size=1\n",
    "        )\n",
    "\n",
    "        self.residual_blocks = nn.ModuleList()\n",
    "        dilation = 1\n",
    "        for i in range(dilation_depth):\n",
    "            self.residual_blocks.append(\n",
    "                ResidualBlock(num_channels, num_channels, kernel_size, dilation)\n",
    "            )\n",
    "            dilation *= 2  # Double the dilation at each block\n",
    "\n",
    "        self.output_layer = nn.Conv1d(num_channels, 1, kernel_size=1)\n",
    "\n",
    "    def forward(self, x: torch.Tensor) -> torch.Tensor:\n",
    "        out = self.input_layer(x)\n",
    "        skip_connections = []\n",
    "        for block in self.residual_blocks:\n",
    "            out, skip = block(out)\n",
    "            # skip_connections.append(skip)\n",
    "\n",
    "            # # Ensure the skip connections have the same shape\n",
    "            # out = sum(skip_connections)  # Sum over the skip connections\n",
    "        out = self.output_layer(out)\n",
    "        return out"
   ]
  },
  {
   "cell_type": "code",
   "execution_count": 77,
   "metadata": {},
   "outputs": [],
   "source": [
    "batch_size = 128\n",
    "learning_rate = 0.001\n",
    "num_epochs = 100\n",
    "\n",
    "num_channels = 32\n",
    "dilation_depth = 4\n",
    "kernel_size = 2\n",
    "num_classes = 2 ** 8"
   ]
  },
  {
   "cell_type": "code",
   "execution_count": 78,
   "metadata": {},
   "outputs": [],
   "source": [
    "def train_model(model: nn.Module, dataLoader: DataLoader, criterion: nn.Module, optimizer: torch.optim.Optimizer, num_epochs: int = 10) -> None:\n",
    "    model.train()\n",
    "    for epoch in range(num_epochs):\n",
    "        for inputs, targets in dataLoader:\n",
    "            optimizer.zero_grad()\n",
    "\n",
    "            inputs = inputs.unsqueeze(1)\n",
    "            targets = targets.unsqueeze(1)\n",
    "\n",
    "            outputs = model(inputs)\n",
    "\n",
    "            loss = criterion(outputs, targets)\n",
    "\n",
    "            loss.backward()\n",
    "            optimizer.step()\n",
    "        print(f\"Epoch: {epoch + 1}, Loss: {loss.item()}\")"
   ]
  },
  {
   "cell_type": "code",
   "execution_count": 79,
   "metadata": {},
   "outputs": [],
   "source": [
    "# training loop\n",
    "\n",
    "# class for pytorch\n",
    "class Audio(Dataset):\n",
    "    def __init__(self, inputs: Tensor, outputs: Tensor):\n",
    "        self.inputs = inputs\n",
    "        self.outputs = outputs\n",
    "\n",
    "    def __len__(self) -> int:\n",
    "        return len(self.inputs)\n",
    "\n",
    "    def __getitem__(self, index: int) -> tuple:\n",
    "        return self.inputs[index], self.outputs[index]\n",
    "\n",
    "model = WaveNet(num_channels, dilation_depth, kernel_size, num_classes)\n",
    "\n",
    "# inp_tensor = inp_tensor.to(device)\n",
    "# out_tensor = out_tensor.to(device)\n",
    "# model = model.to(device)\n",
    "\n",
    "# training_dataset = Audio(inp_tensor, out_tensor)\n",
    "# train_loader = DataLoader(training_dataset, batch_size=batch_size, shuffle=True)\n",
    "\n",
    "# criterion = nn.MSELoss()\n",
    "# optimizer = torch.optim.Adam(model.parameters(), lr=learning_rate)\n",
    "\n",
    "# Load model\n",
    "# model.load_state_dict(torch.load(\"wavenet_guitar_model.pth\"))\n",
    "\n",
    "# train_model(model, train_loader, criterion, optimizer, num_epochs)\n"
   ]
  },
  {
   "cell_type": "code",
   "execution_count": 80,
   "metadata": {},
   "outputs": [
    {
     "name": "stdout",
     "output_type": "stream",
     "text": [
      "Model saved successfully.\n"
     ]
    }
   ],
   "source": [
    "torch.save(model.state_dict(), \"wavenet_guitar_model.pth\")\n",
    "print(\"Model saved successfully.\")"
   ]
  },
  {
   "cell_type": "code",
   "execution_count": 81,
   "metadata": {},
   "outputs": [
    {
     "name": "stdout",
     "output_type": "stream",
     "text": [
      "Model loaded successfully.\n"
     ]
    },
    {
     "name": "stderr",
     "output_type": "stream",
     "text": [
      "/tmp/ipykernel_326560/76303354.py:4: FutureWarning: You are using `torch.load` with `weights_only=False` (the current default value), which uses the default pickle module implicitly. It is possible to construct malicious pickle data which will execute arbitrary code during unpickling (See https://github.com/pytorch/pytorch/blob/main/SECURITY.md#untrusted-models for more details). In a future release, the default value for `weights_only` will be flipped to `True`. This limits the functions that could be executed during unpickling. Arbitrary objects will no longer be allowed to be loaded via this mode unless they are explicitly allowlisted by the user via `torch.serialization.add_safe_globals`. We recommend you start setting `weights_only=True` for any use case where you don't have full control of the loaded file. Please open an issue on GitHub for any issues related to this experimental feature.\n",
      "  model.load_state_dict(torch.load(\"wavenet_guitar_model.pth\"))\n"
     ]
    }
   ],
   "source": [
    "model = WaveNet()  # Ensure this matches the architecture used during training\n",
    "\n",
    "# Load the saved state dictionary\n",
    "model.load_state_dict(torch.load(\"wavenet_guitar_model.pth\"))\n",
    "model.eval()  # Set the model to evaluation mode\n",
    "print(\"Model loaded successfully.\")"
   ]
  },
  {
   "cell_type": "code",
   "execution_count": 82,
   "metadata": {},
   "outputs": [],
   "source": [
    "# ESR loss calculates the Error-to-signal between the output/target\n",
    "class ESRLoss(nn.Module):\n",
    "    def __init__(self):\n",
    "        super(ESRLoss, self).__init__()\n",
    "        self.epsilon = 0.00001\n",
    "\n",
    "    def forward(self, output, target):\n",
    "        loss = torch.add(target, -output)\n",
    "        loss = torch.pow(loss, 2)\n",
    "        loss = torch.mean(loss)\n",
    "        energy = torch.mean(torch.pow(target, 2)) + self.epsilon\n",
    "        loss = torch.div(loss, energy)\n",
    "        return loss"
   ]
  },
  {
   "cell_type": "code",
   "execution_count": 83,
   "metadata": {},
   "outputs": [],
   "source": [
    "import torch\n",
    "import torch.nn as nn\n",
    "from torch.utils.data import DataLoader, Dataset\n",
    "\n",
    "class SimpleLSTM(nn.Module):\n",
    "    def __init__(self, input_size, output_size, hidden_size, num_layers, hidden):\n",
    "        super(SimpleLSTM, self).__init__()\n",
    "        self.output_size = output_size\n",
    "        self.num_layers = num_layers\n",
    "        self.hidden_size = hidden_size\n",
    "\n",
    "        self.lstm = nn.LSTM(input_size, hidden_size, num_layers)\n",
    "        self.last_layer = nn.Linear(hidden_size, output_size, bias=True)\n",
    "        self.skip = 1\n",
    "        self.hidden = hidden\n",
    "\n",
    "    def forward(self, x: torch.Tensor) -> torch.Tensor:\n",
    "        # save residual for skip\n",
    "        if self.skip:\n",
    "            res = x[:, :, 0:self.skip]\n",
    "        output, self.hidden = self.lstm(x, self.hidden)\n",
    "        output = self.last_layer(output)\n",
    "        return output + res if self.skip else output\n",
    "\n",
    "    def train_epoch(self, data_loader: DataLoader, criterion: nn.Module, optimizer: torch.optim.Optimizer) -> float:\n",
    "        total_loss = 0.0\n",
    "        for inputs, targets in data_loader:\n",
    "            self.zero_grad()\n",
    "\n",
    "            # Ensure inputs and targets are on the same device as the model\n",
    "            inputs = inputs.to(device).contiguous()\n",
    "            targets = targets.to(device).contiguous()\n",
    "\n",
    "            outputs = self(inputs)\n",
    "            loss = criterion(outputs, targets)\n",
    "\n",
    "            loss.backward()\n",
    "            optimizer.step()\n",
    "\n",
    "            self.detach_hidden()\n",
    "            self.zero_grad()\n",
    "\n",
    "            total_loss += loss.item()\n",
    "\n",
    "        return total_loss / len(data_loader)\n",
    "\n",
    "    # detach hidden state, this resets gradient tracking on the hidden state\n",
    "    def detach_hidden(self):\n",
    "        if self.hidden.__class__ == tuple:\n",
    "            self.hidden = tuple([h.clone().detach() for h in self.hidden])\n",
    "        else:\n",
    "            self.hidden = self.hidden.clone().detach()\n",
    "\n",
    "    # changes the hidden state to None, causing pytorch to create an all-zero hidden state when the rec unit is called\n",
    "    def reset_hidden(self):\n",
    "        self.hidden = None\n",
    "\n",
    "    def save_model(self, path: str) -> None:\n",
    "        torch.save(self.state_dict(), path)\n",
    "        print(\"Model saved successfully.\")\n",
    "\n",
    "    def load_model(self, path: str) -> None:\n",
    "        self.load_state_dict(torch.load(path))\n",
    "\n",
    "    def predict(self, x: torch.Tensor) -> torch.Tensor:\n",
    "        model.eval()\n",
    "\n",
    "        # Reshape input tensor to LSTM input shape\n",
    "        x = x.unsqueeze(1)\n",
    "\n",
    "        with torch.no_grad():\n",
    "            return self(x)"
   ]
  },
  {
   "cell_type": "code",
   "execution_count": 84,
   "metadata": {},
   "outputs": [
    {
     "name": "stdout",
     "output_type": "stream",
     "text": [
      "Input Tensor Shape: torch.Size([960000, 1, 1])\n",
      "Target Tensor Shape: torch.Size([960000, 1, 1])\n",
      "Epoch: 1 Loss: 1.0071985162178676 LR: 0.01\n",
      "Epoch: 2 Loss: 0.9988836984554926 LR: 0.01\n",
      "Epoch: 3 Loss: 0.9969300366560618 LR: 0.01\n",
      "Epoch: 4 Loss: 0.9970163803100586 LR: 0.01\n",
      "Epoch: 5 Loss: 0.9972220663070679 LR: 0.01\n",
      "Epoch: 6 Loss: 0.9964180977503458 LR: 0.01\n",
      "Epoch: 7 Loss: 0.9961199540932973 LR: 0.01\n",
      "Epoch: 8 Loss: 0.9962054065863292 LR: 0.01\n",
      "Epoch: 9 Loss: 0.9966204802831014 LR: 0.01\n",
      "Epoch: 10 Loss: 0.9956540266513825 LR: 0.001\n",
      "Epoch: 11 Loss: 0.9879076610883077 LR: 0.001\n",
      "Epoch: 12 Loss: 0.9878477188030879 LR: 0.001\n",
      "Epoch: 13 Loss: 0.9879973078489304 LR: 0.001\n",
      "Epoch: 14 Loss: 0.9879251062472661 LR: 0.001\n",
      "Epoch: 15 Loss: 0.9878453932523727 LR: 0.001\n",
      "Epoch: 16 Loss: 0.9879511447350184 LR: 0.001\n"
     ]
    },
    {
     "ename": "KeyboardInterrupt",
     "evalue": "",
     "output_type": "error",
     "traceback": [
      "\u001b[0;31m---------------------------------------------------------------------------\u001b[0m",
      "\u001b[0;31mKeyboardInterrupt\u001b[0m                         Traceback (most recent call last)",
      "Cell \u001b[0;32mIn[84], line 47\u001b[0m\n\u001b[1;32m     45\u001b[0m \u001b[38;5;28;01mif\u001b[39;00m epoch \u001b[38;5;241m%\u001b[39m save_epoch_interval \u001b[38;5;129;01mand\u001b[39;00m save_model \u001b[38;5;241m==\u001b[39m \u001b[38;5;241m0\u001b[39m:\n\u001b[1;32m     46\u001b[0m     lstm_model\u001b[38;5;241m.\u001b[39msave_model(\u001b[38;5;124m\"\u001b[39m\u001b[38;5;124mlstm_guitar_model.pth\u001b[39m\u001b[38;5;124m\"\u001b[39m)\n\u001b[0;32m---> 47\u001b[0m loss \u001b[38;5;241m=\u001b[39m \u001b[43mlstm_model\u001b[49m\u001b[38;5;241;43m.\u001b[39;49m\u001b[43mtrain_epoch\u001b[49m\u001b[43m(\u001b[49m\u001b[43mdataloader\u001b[49m\u001b[43m,\u001b[49m\u001b[43m \u001b[49m\u001b[43mcriterion\u001b[49m\u001b[43m,\u001b[49m\u001b[43m \u001b[49m\u001b[43moptimizer\u001b[49m\u001b[43m)\u001b[49m\n\u001b[1;32m     48\u001b[0m lstm_model\u001b[38;5;241m.\u001b[39mreset_hidden()\n\u001b[1;32m     49\u001b[0m scheduler\u001b[38;5;241m.\u001b[39mstep()\n",
      "Cell \u001b[0;32mIn[83], line 40\u001b[0m, in \u001b[0;36mSimpleLSTM.train_epoch\u001b[0;34m(self, data_loader, criterion, optimizer)\u001b[0m\n\u001b[1;32m     37\u001b[0m loss\u001b[38;5;241m.\u001b[39mbackward()\n\u001b[1;32m     38\u001b[0m optimizer\u001b[38;5;241m.\u001b[39mstep()\n\u001b[0;32m---> 40\u001b[0m \u001b[38;5;28;43mself\u001b[39;49m\u001b[38;5;241;43m.\u001b[39;49m\u001b[43mdetach_hidden\u001b[49m\u001b[43m(\u001b[49m\u001b[43m)\u001b[49m\n\u001b[1;32m     41\u001b[0m \u001b[38;5;28mself\u001b[39m\u001b[38;5;241m.\u001b[39mzero_grad()\n\u001b[1;32m     43\u001b[0m total_loss \u001b[38;5;241m+\u001b[39m\u001b[38;5;241m=\u001b[39m loss\u001b[38;5;241m.\u001b[39mitem()\n",
      "Cell \u001b[0;32mIn[83], line 50\u001b[0m, in \u001b[0;36mSimpleLSTM.detach_hidden\u001b[0;34m(self)\u001b[0m\n\u001b[1;32m     48\u001b[0m \u001b[38;5;28;01mdef\u001b[39;00m \u001b[38;5;21mdetach_hidden\u001b[39m(\u001b[38;5;28mself\u001b[39m):\n\u001b[1;32m     49\u001b[0m     \u001b[38;5;28;01mif\u001b[39;00m \u001b[38;5;28mself\u001b[39m\u001b[38;5;241m.\u001b[39mhidden\u001b[38;5;241m.\u001b[39m\u001b[38;5;18m__class__\u001b[39m \u001b[38;5;241m==\u001b[39m \u001b[38;5;28mtuple\u001b[39m:\n\u001b[0;32m---> 50\u001b[0m         \u001b[38;5;28mself\u001b[39m\u001b[38;5;241m.\u001b[39mhidden \u001b[38;5;241m=\u001b[39m \u001b[38;5;28mtuple\u001b[39m([\u001b[43mh\u001b[49m\u001b[38;5;241;43m.\u001b[39;49m\u001b[43mclone\u001b[49m\u001b[43m(\u001b[49m\u001b[43m)\u001b[49m\u001b[38;5;241m.\u001b[39mdetach() \u001b[38;5;28;01mfor\u001b[39;00m h \u001b[38;5;129;01min\u001b[39;00m \u001b[38;5;28mself\u001b[39m\u001b[38;5;241m.\u001b[39mhidden])\n\u001b[1;32m     51\u001b[0m     \u001b[38;5;28;01melse\u001b[39;00m:\n\u001b[1;32m     52\u001b[0m         \u001b[38;5;28mself\u001b[39m\u001b[38;5;241m.\u001b[39mhidden \u001b[38;5;241m=\u001b[39m \u001b[38;5;28mself\u001b[39m\u001b[38;5;241m.\u001b[39mhidden\u001b[38;5;241m.\u001b[39mclone()\u001b[38;5;241m.\u001b[39mdetach()\n",
      "\u001b[0;31mKeyboardInterrupt\u001b[0m: "
     ]
    }
   ],
   "source": [
    "num_classes = 1\n",
    "input_size = num_classes\n",
    "output_size = input_size\n",
    "batch_size = 128\n",
    "hidden_size = 96\n",
    "num_layers = 1\n",
    "num_epochs = 1000\n",
    "learning_rate = 0.01\n",
    "reload_model = False\n",
    "\n",
    "# Device configuration\n",
    "device = torch.device(\"cuda\" if torch.cuda.is_available() else \"cpu\")\n",
    "\n",
    "# Initialize hidden state\n",
    "h_0 = torch.zeros(1, 1, hidden_size).to(device)\n",
    "c_0 = torch.zeros(1, 1, hidden_size).to(device)\n",
    "\n",
    "# Model\n",
    "lstm_model = SimpleLSTM(input_size, output_size, hidden_size, num_layers, (h_0, c_0)).to(device)\n",
    "\n",
    "if reload_model:\n",
    "    lstm_model.load_model(\"lstm_guitar_model.pth\")\n",
    "\n",
    "# Training loop\n",
    "criterion = ESRLoss()\n",
    "optimizer = torch.optim.Adam(lstm_model.parameters(), lr=learning_rate)\n",
    "scheduler = torch.optim.lr_scheduler.StepLR(optimizer, step_size=10, gamma=0.1)\n",
    "\n",
    "# Assuming inp_tensor and out_tensor are already defined\n",
    "inp_tensor_lstm = inp_tensor.unsqueeze(1).to(device)\n",
    "out_tensor_lstm = out_tensor.unsqueeze(1).to(device)\n",
    "\n",
    "print(f\"Input Tensor Shape: {inp_tensor_lstm.shape}\")\n",
    "print(f\"Target Tensor Shape: {out_tensor_lstm.shape}\")\n",
    "\n",
    "training_dataset = list(zip(inp_tensor_lstm, out_tensor_lstm))\n",
    "dataloader = DataLoader(training_dataset, batch_size=batch_size, shuffle=True)\n",
    "\n",
    "save_epoch_interval = 10\n",
    "save_model = True\n",
    "\n",
    "lstm_model.train()\n",
    "\n",
    "\n",
    "for epoch in range(num_epochs):\n",
    "    if epoch % save_epoch_interval and save_model == 0:\n",
    "        lstm_model.save_model(\"lstm_guitar_model.pth\")\n",
    "    loss = lstm_model.train_epoch(dataloader, criterion, optimizer)\n",
    "    lstm_model.reset_hidden()\n",
    "    scheduler.step()\n",
    "    print(f\"Epoch: {epoch + 1} Loss: {loss} LR: {optimizer.param_groups[0]['lr']}\")"
   ]
  },
  {
   "cell_type": "code",
   "execution_count": null,
   "metadata": {},
   "outputs": [],
   "source": [
    "import soundfile as sf\n",
    "\n",
    "def save_audio_file(input_signal: torch.Tensor, new_sampling_rate: int, path: str) -> None:\n",
    "    output_signal = input_signal\n",
    "    sf.write(path, output_signal, new_sampling_rate)"
   ]
  },
  {
   "cell_type": "code",
   "execution_count": null,
   "metadata": {},
   "outputs": [],
   "source": [
    "lstm_model.save_model(\"lstm_guitar_model.pth\")"
   ]
  },
  {
   "cell_type": "code",
   "execution_count": null,
   "metadata": {},
   "outputs": [],
   "source": [
    "# Predict\n",
    "test_audio_signal, test_sampling_rate = load_audio(\"./data/ML_Pedal_Input_DS.wav\")\n",
    "target_audio_signal, target_sampling_rate = load_audio(\"./data/ML_Pedal_Output_DS.wav\")\n",
    "\n",
    "test_audio_signal_tensor = to_tensor(test_audio_signal)\n",
    "\n",
    "lstm_model.to(\"cpu\")\n",
    "predicted_audio_signal = lstm_model.predict(test_audio_signal_tensor)\n",
    "\n",
    "numpy_audio_signal = predicted_audio_signal.cpu().numpy().flatten()\n",
    "\n",
    "print(f\"Predicted Audio Signal Shape: {numpy_audio_signal.shape}\")\n",
    "print(f\"Actual Audio Signal Shape: {target_audio_signal.shape}\")\n",
    "\n",
    "save_audio_file(numpy_audio_signal, test_sampling_rate, \"predicted_audio.wav\")"
   ]
  },
  {
   "cell_type": "code",
   "execution_count": null,
   "metadata": {},
   "outputs": [],
   "source": [
    "# Plot the predicted audio signal\n",
    "plot_waveform(test_audio_signal)\n",
    "plot_waveform(numpy_audio_signal)\n",
    "plot_waveform(target_audio_signal)"
   ]
  },
  {
   "cell_type": "code",
   "execution_count": null,
   "metadata": {},
   "outputs": [],
   "source": [
    "# new_audio_signal, new_sampling_rate = load_audio(\"./data/ML_Pedal_Input_DS.wav\")\n",
    "\n",
    "# # new_audio_signal, new_|sampling_rate = load_audio(\"./data/ML_Pedal_Input_DS.wav\")\n",
    "\n",
    "# # Ensure input tensor has the correct type (float32)\n",
    "# new_audio_signal = to_tensor(new_audio_signal).to(device)\n",
    "\n",
    "# # Reshape to (1, 1, sequence_length) for Conv1d\n",
    "# new_audio_signal = new_audio_signal.unsqueeze(0).transpose(1, 2)\n",
    "\n",
    "# print(new_audio_signal.shape)  # Verify the shape is (1, 1, sequence_length)\n",
    "\n",
    "# # Perform inference\n",
    "# with torch.no_grad():\n",
    "#     output = model(new_audio_signal)\n",
    "\n",
    "# # Post-process the output\n",
    "# output_signal = output.squeeze().numpy()  # Remove extra dimensions\n"
   ]
  },
  {
   "cell_type": "code",
   "execution_count": null,
   "metadata": {},
   "outputs": [],
   "source": [
    "%pip install soundfile"
   ]
  },
  {
   "cell_type": "code",
   "execution_count": null,
   "metadata": {},
   "outputs": [],
   "source": []
  },
  {
   "cell_type": "code",
   "execution_count": null,
   "metadata": {},
   "outputs": [],
   "source": []
  }
 ],
 "metadata": {
  "kernelspec": {
   "display_name": ".venv",
   "language": "python",
   "name": "python3"
  },
  "language_info": {
   "codemirror_mode": {
    "name": "ipython",
    "version": 3
   },
   "file_extension": ".py",
   "mimetype": "text/x-python",
   "name": "python",
   "nbconvert_exporter": "python",
   "pygments_lexer": "ipython3",
   "version": "3.12.7"
  }
 },
 "nbformat": 4,
 "nbformat_minor": 2
}
